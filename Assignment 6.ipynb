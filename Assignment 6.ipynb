{
 "cells": [
  {
   "cell_type": "markdown",
   "id": "a6803b58-dcbf-4744-8034-212a72a04aa7",
   "metadata": {},
   "source": [
    "# Assignment 6 (OOPS Assignment-1)\n"
   ]
  },
  {
   "cell_type": "markdown",
   "id": "2d9c1683-a0b7-4a26-b239-b31995b4badd",
   "metadata": {},
   "source": [
    "#Q1. Explain Class and Object with respect to Object-Oriented Programming. Give a suitable example.\n"
   ]
  },
  {
   "cell_type": "markdown",
   "id": "2ba75b9a-d1cc-422a-bf6b-af51d9340119",
   "metadata": {},
   "source": [
    "#Ans. \n",
    "\n",
    "CLass :In object-oriented programming (OOP), a class is a blueprint that defines the attributes (data) and behaviors (methods) that objects of that class will have.\n",
    "\n",
    "Object : An object is an instance of a class. It is a concrete entity created based on the blueprint defined by the class"
   ]
  },
  {
   "cell_type": "code",
   "execution_count": 10,
   "id": "75b46506-b500-45ef-835c-63216675dafb",
   "metadata": {},
   "outputs": [],
   "source": [
    "#Example of class and object\n",
    "\n",
    "#This is CLass\n",
    "class food:\n",
    "    \n",
    "    def __init__(self,healthy_food,junk_food):\n",
    "        self.healthy_food = healthy_food\n",
    "        self.junk_food =junk_food"
   ]
  },
  {
   "cell_type": "code",
   "execution_count": 11,
   "id": "7c24e98b-2f57-4370-b981-44283141cd4e",
   "metadata": {},
   "outputs": [],
   "source": [
    "# This is oject or instance of the class\n",
    "food_obj = food(\"millet\",\"pizza\")"
   ]
  },
  {
   "cell_type": "code",
   "execution_count": 12,
   "id": "caa77db3-ab32-4a18-9505-bab975210ea8",
   "metadata": {},
   "outputs": [
    {
     "data": {
      "text/plain": [
       "'millet'"
      ]
     },
     "execution_count": 12,
     "metadata": {},
     "output_type": "execute_result"
    }
   ],
   "source": [
    "food_obj.healthy_food"
   ]
  },
  {
   "cell_type": "code",
   "execution_count": 13,
   "id": "b3873593-02cb-4d1a-9afe-3dff54bef21c",
   "metadata": {},
   "outputs": [
    {
     "data": {
      "text/plain": [
       "'pizza'"
      ]
     },
     "execution_count": 13,
     "metadata": {},
     "output_type": "execute_result"
    }
   ],
   "source": [
    "food_obj.junk_food"
   ]
  },
  {
   "cell_type": "markdown",
   "id": "356bef7d-105c-453c-a473-02d1e0f06701",
   "metadata": {},
   "source": [
    "Q2. Name the four pillars of OOPs."
   ]
  },
  {
   "cell_type": "markdown",
   "id": "fe2c8a58-9da1-4f73-80e3-5e13e6f4020e",
   "metadata": {},
   "source": [
    "Ans. Four pillars of the OOPs are\n",
    "\n",
    "1. Encapsulation\n",
    "2. Abstraction\n",
    "3. Inheritance\n",
    "4. Plymorphism "
   ]
  },
  {
   "cell_type": "markdown",
   "id": "983bada6-2d8e-450c-952e-fb6ef9079c03",
   "metadata": {},
   "source": [
    "Q3. Explain why the __init__() function is used. Give a suitable example.\n"
   ]
  },
  {
   "cell_type": "markdown",
   "id": "fa7dfacc-f0a7-46da-ba74-08f655b4e42d",
   "metadata": {},
   "source": [
    "The __init__() function is used as a constructor in Python class. It is a special method that gets automatically called when an object is created from a class.\n",
    "example of __init__ function:\n"
   ]
  },
  {
   "cell_type": "code",
   "execution_count": 48,
   "id": "5544512d-4142-472a-8223-7f6753d372cc",
   "metadata": {},
   "outputs": [],
   "source": [
    "# Example\n",
    "\n",
    "class clothes:\n",
    "    \n",
    "    def __init__(self,type_cloth,fabric_cloth):\n",
    "        self.type_cloth = type_cloth\n",
    "        self.fabric_cloth = fabric_cloth\n",
    "        \n",
    "    def details_cloth(self):\n",
    "        print(\"It is a\" , self.fabric_cloth , self.type_cloth)"
   ]
  },
  {
   "cell_type": "code",
   "execution_count": 49,
   "id": "ad510133-9eb7-4412-b43e-5fd556a1e592",
   "metadata": {},
   "outputs": [],
   "source": [
    "clothes1 = clothes(\"shirt\",\"cotton\")"
   ]
  },
  {
   "cell_type": "code",
   "execution_count": 50,
   "id": "6b148112-bb24-4512-b933-1b629fcaa1b0",
   "metadata": {},
   "outputs": [],
   "source": [
    "clothes2 = clothes(\"t-shirt\",\"cotton\")"
   ]
  },
  {
   "cell_type": "code",
   "execution_count": 51,
   "id": "3656d3a5-0c5b-4d39-9fb1-7484f814bec6",
   "metadata": {},
   "outputs": [
    {
     "data": {
      "text/plain": [
       "'shirt'"
      ]
     },
     "execution_count": 51,
     "metadata": {},
     "output_type": "execute_result"
    }
   ],
   "source": [
    "clothes1.type_cloth"
   ]
  },
  {
   "cell_type": "code",
   "execution_count": 52,
   "id": "677839d0-94d0-4ca3-978e-e1d2800e6b9e",
   "metadata": {},
   "outputs": [
    {
     "name": "stdout",
     "output_type": "stream",
     "text": [
      "It is a cotton shirt\n"
     ]
    }
   ],
   "source": [
    "clothes1.details_cloth()"
   ]
  },
  {
   "cell_type": "code",
   "execution_count": 53,
   "id": "e9ee7c86-400c-45b8-9e1f-b0dfc74809a3",
   "metadata": {},
   "outputs": [
    {
     "data": {
      "text/plain": [
       "'cotton'"
      ]
     },
     "execution_count": 53,
     "metadata": {},
     "output_type": "execute_result"
    }
   ],
   "source": [
    "clothes2.fabric_cloth"
   ]
  },
  {
   "cell_type": "code",
   "execution_count": 54,
   "id": "afb45e50-097e-4eca-b34c-59e970933d3a",
   "metadata": {},
   "outputs": [
    {
     "name": "stdout",
     "output_type": "stream",
     "text": [
      "It is a cotton t-shirt\n"
     ]
    }
   ],
   "source": [
    "clothes2.details_cloth()"
   ]
  },
  {
   "cell_type": "markdown",
   "id": "05cfdff5-e8f8-41d7-9a49-96fa5f3e5312",
   "metadata": {},
   "source": [
    "Q4. Why self is used in OOPs?\n"
   ]
  },
  {
   "cell_type": "markdown",
   "id": "79d29550-b8dd-4c65-b1d1-e5636fdb10ca",
   "metadata": {},
   "source": [
    "Ans. Self is used a first parameter in method deination in class.It ensures proper instance binding, object-specific behavior, and access to object attributes and methods, making the code more organized and intuitive.\n",
    "It is not a reserverd keyword in python, we can use someother words instead of self."
   ]
  },
  {
   "cell_type": "markdown",
   "id": "fdeca090-94b9-4488-9585-7be74a0df890",
   "metadata": {},
   "source": [
    "Q5. What is inheritance? Give an example for each type of inheritance.\n"
   ]
  },
  {
   "cell_type": "markdown",
   "id": "9806cc57-9a74-4340-8167-741e82f5cf9c",
   "metadata": {},
   "source": [
    "Ans. When a class inherits some properties of one or more classes then it is called inheritance.The class which inherits is called as child class and the class from which child class inherits  is called as parent class.\n",
    "There are 2 types of inheritance:\n",
    "1.Multilabel Inheritance\n",
    "2.Multiple Inheritance"
   ]
  },
  {
   "cell_type": "code",
   "execution_count": 80,
   "id": "584f4d80-e763-4502-ae9b-74438c9f0440",
   "metadata": {},
   "outputs": [],
   "source": [
    "# Example of Multiple Inheritance\n",
    "\n",
    "class car:\n",
    "    \n",
    "    def vehicle1(self):\n",
    "        return \"This is my car\""
   ]
  },
  {
   "cell_type": "code",
   "execution_count": 62,
   "id": "832cf183-30c4-4ac5-809f-6a02cfa2b825",
   "metadata": {},
   "outputs": [],
   "source": [
    "class bike:\n",
    "    \n",
    "    def vehicle2(self):\n",
    "        return \"This is my bike\""
   ]
  },
  {
   "cell_type": "code",
   "execution_count": 72,
   "id": "a2fe0efe-7392-4883-921c-43c99952d115",
   "metadata": {},
   "outputs": [],
   "source": [
    "class my_vehicle(car,bike):\n",
    "    pass"
   ]
  },
  {
   "cell_type": "code",
   "execution_count": 73,
   "id": "6227ccef-f806-4207-80a3-8f91639d5b88",
   "metadata": {},
   "outputs": [],
   "source": [
    "Vehicle_obj = my_vehicle()"
   ]
  },
  {
   "cell_type": "code",
   "execution_count": 74,
   "id": "353a2f38-1cbe-450a-98dd-d19904daaf6b",
   "metadata": {},
   "outputs": [
    {
     "data": {
      "text/plain": [
       "'This is my bike'"
      ]
     },
     "execution_count": 74,
     "metadata": {},
     "output_type": "execute_result"
    }
   ],
   "source": [
    "Vehicle_obj.vehicle2()"
   ]
  },
  {
   "cell_type": "code",
   "execution_count": 76,
   "id": "df5c7d1b-5985-485c-b81a-affd6ac61d07",
   "metadata": {},
   "outputs": [
    {
     "data": {
      "text/plain": [
       "'This is my car'"
      ]
     },
     "execution_count": 76,
     "metadata": {},
     "output_type": "execute_result"
    }
   ],
   "source": [
    "Vehicle_obj.vehicle1()"
   ]
  },
  {
   "cell_type": "code",
   "execution_count": 81,
   "id": "48e91b2b-e543-420e-ac60-8c3f5783787b",
   "metadata": {},
   "outputs": [],
   "source": [
    "# Example of Multilable Inheritance\n",
    "\n",
    "class HP:\n",
    "    \n",
    "    def pc1(self):\n",
    "        return \"This is HP's laptop\""
   ]
  },
  {
   "cell_type": "code",
   "execution_count": 82,
   "id": "7eb9defd-719f-4a02-b785-ee0b0c40e225",
   "metadata": {},
   "outputs": [],
   "source": [
    "class Dell(HP):\n",
    "    \n",
    "    def pc2(self):\n",
    "        return \"This is Dell's laptop\""
   ]
  },
  {
   "cell_type": "code",
   "execution_count": 83,
   "id": "b8d6b6e5-582c-4147-9e25-c4870bfe6c5d",
   "metadata": {},
   "outputs": [],
   "source": [
    "class my_pc(Dell):\n",
    "    pass"
   ]
  },
  {
   "cell_type": "code",
   "execution_count": 84,
   "id": "461feee6-275e-486b-8fc7-3b909a4c6730",
   "metadata": {},
   "outputs": [],
   "source": [
    "A = my_pc()"
   ]
  },
  {
   "cell_type": "code",
   "execution_count": 85,
   "id": "a411b69d-3820-4ca6-81f1-6d890c13b8f3",
   "metadata": {},
   "outputs": [
    {
     "data": {
      "text/plain": [
       "\"This is HP's laptop\""
      ]
     },
     "execution_count": 85,
     "metadata": {},
     "output_type": "execute_result"
    }
   ],
   "source": [
    "A.pc1()"
   ]
  },
  {
   "cell_type": "code",
   "execution_count": 86,
   "id": "d889637c-9116-4355-83d7-7832819de3fa",
   "metadata": {},
   "outputs": [
    {
     "data": {
      "text/plain": [
       "\"This is Dell's laptop\""
      ]
     },
     "execution_count": 86,
     "metadata": {},
     "output_type": "execute_result"
    }
   ],
   "source": [
    "A.pc2()"
   ]
  },
  {
   "cell_type": "code",
   "execution_count": null,
   "id": "2ecfcc07-658f-4fd5-bd8d-0874eab6d135",
   "metadata": {},
   "outputs": [],
   "source": []
  }
 ],
 "metadata": {
  "kernelspec": {
   "display_name": "Python 3 (ipykernel)",
   "language": "python",
   "name": "python3"
  },
  "language_info": {
   "codemirror_mode": {
    "name": "ipython",
    "version": 3
   },
   "file_extension": ".py",
   "mimetype": "text/x-python",
   "name": "python",
   "nbconvert_exporter": "python",
   "pygments_lexer": "ipython3",
   "version": "3.10.8"
  }
 },
 "nbformat": 4,
 "nbformat_minor": 5
}
